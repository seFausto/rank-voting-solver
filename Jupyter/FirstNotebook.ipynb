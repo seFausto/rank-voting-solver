{
 "metadata": {
  "language_info": {
   "codemirror_mode": {
    "name": "ipython",
    "version": 3
   },
   "file_extension": ".py",
   "mimetype": "text/x-python",
   "name": "python",
   "nbconvert_exporter": "python",
   "pygments_lexer": "ipython3",
   "version": "3.8.5"
  },
  "orig_nbformat": 2,
  "kernelspec": {
   "name": "python385jvsc74a57bd0792d562b2c11fbe8974c10320ae1281a344f9972e6ee744cbf834c43561210f3",
   "display_name": "Python 3.8.5 32-bit"
  },
  "metadata": {
   "interpreter": {
    "hash": "792d562b2c11fbe8974c10320ae1281a344f9972e6ee744cbf834c43561210f3"
   }
  }
 },
 "nbformat": 4,
 "nbformat_minor": 2,
 "cells": [
  {
   "cell_type": "code",
   "execution_count": 400,
   "metadata": {},
   "outputs": [],
   "source": [
    "class Element:\n",
    "    def __init__(self, value, isFact) :\n",
    "        self.value = value\n",
    "        self.isFact = isFact\n"
   ]
  },
  {
   "cell_type": "code",
   "execution_count": 401,
   "metadata": {},
   "outputs": [],
   "source": [
    "class Ranking:\n",
    "    def __init__(self, name, ranks):\n",
    "        self.id  = name\n",
    "        self.ranks = ranks\n",
    "    \n",
    "    def getChildren(self) :\n",
    "        result = []\n",
    "\n",
    "        for startIndex in range (0, len(self.ranks) -1 ) :\n",
    "            for swapIndex in range(startIndex + 1, len(self.ranks) - 1) :\n",
    "                newRank = Ranking(id, [])\n",
    "                newRank.ranks.extend(self.ranks)\n",
    "                newRank.swap(startIndex, swapIndex)\n",
    "\n",
    "                result.append(newRank)\n",
    "        \n",
    "        return result\n",
    "\n",
    "    def swap(self, startIndex, swapIndex) :          \n",
    "        if (self.ranks[startIndex].isFact) :\n",
    "            return\n",
    "        if (self.ranks[swapIndex].isFact) :\n",
    "            return\n",
    "        \n",
    "        temp = self.ranks[startIndex]\n",
    "        self.ranks[startIndex] = self.ranks[swapIndex]\n",
    "        self.ranks[swapIndex] = temp\n",
    "    \n"
   ]
  },
  {
   "cell_type": "code",
   "execution_count": 402,
   "metadata": {},
   "outputs": [],
   "source": [
    "class Ratings :\n",
    "    def __init__(self):\n",
    "        self.rankings =[]\n",
    "        self.finalRanking=[]\n",
    "\n",
    "    def getFinalRanking(self) :\n",
    "        \n",
    "        if len(self.finalRanking) > 0:\n",
    "            return self.finalRanking;\n",
    "        \n",
    "        self.finalRanking = self.calculateFinalRanking()\n",
    "\n",
    "        return self.finalRanking\n",
    "\n",
    "    def calculateFinalRanking(self) :\n",
    "        rankDictionary = {}\n",
    "\n",
    "        for player in self.rankings[0].ranks :\n",
    "            rankDictionary[player.value] = 0\n",
    "\n",
    "        for player in self.rankings[1].ranks :\n",
    "            if  player.value not in rankDictionary :\n",
    "                rankDictionary[player.value] = 0\n",
    "        \n",
    "        for rank in self.rankings :\n",
    "            for name in rank.ranks :\n",
    "                if name.value in rankDictionary :\n",
    "                    rankDictionary[name.value] += rank.ranks.index(name)\n",
    "        result = []\n",
    "        for key in sorted(rankDictionary):\n",
    "                result.append(key)\n",
    "\n",
    "        return result\n",
    "    \n",
    "    def getChildren(self) :\n",
    "        result = []\n",
    "\n",
    "        for index in range(0, len(self.rankings) - 1):\n",
    "            rankChildren = self.rankings[index].getChildren();\n",
    "\n",
    "            for item in rankChildren :\n",
    "                newRatings = Ratings()\n",
    "                newRatings.rankings.append(item)\n",
    "                newRatings.rankings.extend(\n",
    "                    [x for x in self.rankings if x.id != self.rankings[index].id])\n",
    "\n",
    "                result.append(newRatings)\n",
    "\n",
    "        return result\n",
    "\n",
    "    def getCode(self) :\n",
    "        result = \"\"\n",
    "        for rank in self.rankings:\n",
    "            for item in rank.ranks:\n",
    "                result += item.value\n",
    "        return result"
   ]
  },
  {
   "cell_type": "code",
   "execution_count": 403,
   "metadata": {},
   "outputs": [],
   "source": [
    "class RankSolver:\n",
    "    def __init__(self, sol, initialRatings) :\n",
    "        self.solution = solution\n",
    "        self.ratings = initialRatings\n",
    "        self.ratingsQueue = []\n",
    "        self.ratingsCode = []\n",
    "    \n",
    "    def isSolved(self, ratings) :        \n",
    "        for item in ratings.getFinalRanking():\n",
    "            print(item)\n",
    "        return solution == ratings.getFinalRanking()\n",
    "\n",
    "    def solve(self) :\n",
    "        result = []\n",
    "        self.ratingsQueue.append(self.ratings)\n",
    "\n",
    "        while len(self.ratingsQueue) > 0 :\n",
    "            print(\"Items in RatingsQueue: \", len(self.ratingsQueue));\n",
    "            print(\"Items in Ratings Code: \", len(self.ratingsCode));\n",
    "            print(\"Results: \", len(result));\n",
    "\n",
    "            currentRating = self.ratingsQueue.pop(0)\n",
    "\n",
    "            if currentRating.getCode() in self.ratingsCode:\n",
    "                continue\n",
    "\n",
    "            if self.isSolved(currentRating):\n",
    "                result.append(currentRating)\n",
    "                return result\n",
    "\n",
    "            for r in currentRating.getChildren():\n",
    "                if r.getCode() in self.ratingsCode:\n",
    "                    continue\n",
    "\n",
    "                self.ratingsQueue.append(r)\n",
    "            \n",
    "            self.ratingsCode.append(currentRating.getCode())"
   ]
  },
  {
   "cell_type": "code",
   "execution_count": 404,
   "metadata": {},
   "outputs": [],
   "source": [
    "solution = [ \"Joey\",\n",
    "            \"Shubham\",\n",
    "            \"Sammie\"\n",
    "            ]\n"
   ]
  },
  {
   "cell_type": "code",
   "execution_count": 405,
   "metadata": {},
   "outputs": [],
   "source": [
    "r1 = Ranking(\"Joey\", [])\n",
    "r1.ranks=[]\n",
    "r1.ranks.append(Element(\"Sammie\", False))\n",
    "r1.ranks.append(Element(\"Shubham\", False))\n",
    "\n",
    "\n",
    "\n",
    "r2 =  Ranking(\"Shubham\", [])\n",
    "r2.ranks=[]\n",
    "r2.ranks.append(Element(\"Joey\", False))\n",
    "r2.ranks.append(Element(\"Sammie\", False))\n",
    "\n",
    "r3 = Ranking(\"Sammie\", [])\n",
    "r3.ranks=[]\n",
    "r3.ranks.append(Element(\"Joey\", False))\n",
    "r3.ranks.append(Element(\"Shubham\", False))\n"
   ]
  },
  {
   "cell_type": "code",
   "execution_count": 406,
   "metadata": {},
   "outputs": [],
   "source": [
    "rating = Ratings()\n",
    "rating.rankings.append(r1)\n",
    "rating.rankings.append(r2)\n",
    "rating.rankings.append(r3)\n"
   ]
  },
  {
   "cell_type": "code",
   "execution_count": 407,
   "metadata": {
    "tags": []
   },
   "outputs": [
    {
     "output_type": "stream",
     "name": "stdout",
     "text": [
      "Items in RatingsQueue:  1\nItems in Ratings Code:  0\nResults:  0\nJoey\nSammie\nShubham\n"
     ]
    }
   ],
   "source": [
    "solver = RankSolver(solution, rating)\n",
    "result = solver.solve()"
   ]
  },
  {
   "cell_type": "code",
   "execution_count": null,
   "metadata": {},
   "outputs": [],
   "source": []
  }
 ]
}