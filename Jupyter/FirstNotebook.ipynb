{
 "metadata": {
  "language_info": {
   "codemirror_mode": {
    "name": "ipython",
    "version": 3
   },
   "file_extension": ".py",
   "mimetype": "text/x-python",
   "name": "python",
   "nbconvert_exporter": "python",
   "pygments_lexer": "ipython3",
   "version": "3.8.5"
  },
  "orig_nbformat": 2,
  "kernelspec": {
   "name": "python385jvsc74a57bd0792d562b2c11fbe8974c10320ae1281a344f9972e6ee744cbf834c43561210f3",
   "display_name": "Python 3.8.5 32-bit"
  },
  "metadata": {
   "interpreter": {
    "hash": "792d562b2c11fbe8974c10320ae1281a344f9972e6ee744cbf834c43561210f3"
   }
  }
 },
 "nbformat": 4,
 "nbformat_minor": 2,
 "cells": [
  {
   "source": [
    "# Solution"
   ],
   "cell_type": "markdown",
   "metadata": {}
  },
  {
   "cell_type": "code",
   "execution_count": 36,
   "metadata": {},
   "outputs": [],
   "source": [
    "soution = [ \"Joey\",\n",
    "            \"Shubham\",\n",
    "            \"Sammie\",\n",
    "            \"Chris\",\n",
    "            \"Rebecca\",\n",
    "            \"Ed\"\n",
    "            ]\n",
    "            "
   ]
  },
  {
   "cell_type": "code",
   "execution_count": 37,
   "metadata": {},
   "outputs": [],
   "source": [
    "class Element:\n",
    "    value = \"\"\n",
    "    isFact = False\n"
   ]
  },
  {
   "cell_type": "code",
   "execution_count": null,
   "metadata": {},
   "outputs": [],
   "source": []
  },
  {
   "cell_type": "code",
   "execution_count": 38,
   "metadata": {},
   "outputs": [
    {
     "output_type": "error",
     "ename": "SyntaxError",
     "evalue": "invalid syntax (<ipython-input-38-c995c4622fdf>, line 6)",
     "traceback": [
      "\u001b[1;36m  File \u001b[1;32m\"<ipython-input-38-c995c4622fdf>\"\u001b[1;36m, line \u001b[1;32m6\u001b[0m\n\u001b[1;33m    def getChildren:\u001b[0m\n\u001b[1;37m                   ^\u001b[0m\n\u001b[1;31mSyntaxError\u001b[0m\u001b[1;31m:\u001b[0m invalid syntax\n"
     ]
    }
   ],
   "source": [
    "class Ranking:\n",
    "    def __init__(self, name):\n",
    "        self.id  = name\n",
    "        self.ranks = []\n",
    "    \n",
    "    def getChildren() :\n",
    "        result = []\n",
    "\n",
    "        for startIndex in range (0, Ranks.Len() -1 ) :\n",
    "            for swapIndex = startIndex + 1 in range(swapIndex, Ranks.len() - 1) :\n",
    "                newRank = Ranking()\n",
    "                newRank.id = id\n",
    "\n",
    "                newRank.Ranks.append(ranks)\n",
    "\n",
    "                newRank.swap(startIndex, swapIndex)\n",
    "\n",
    "                result.append(newRank)\n",
    "        \n",
    "        return result\n",
    "\n",
    "    def swap(startIndex, swapIndex) :\n",
    "        if (Ranks[startIndex].isFact) :\n",
    "            return\n",
    "        if (Ranks[swapIndex].isFact) :\n",
    "            return\n",
    "        \n",
    "        temp = ranks[startIndex]\n",
    "        ranks[startIndex] = ranks[swapIndex]\n",
    "        ranks[swapIndex] = temp\n",
    "    \n"
   ]
  }
 ]
}