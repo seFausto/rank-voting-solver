{
 "metadata": {
  "language_info": {
   "codemirror_mode": {
    "name": "ipython",
    "version": 3
   },
   "file_extension": ".py",
   "mimetype": "text/x-python",
   "name": "python",
   "nbconvert_exporter": "python",
   "pygments_lexer": "ipython3",
   "version": "3.8.5"
  },
  "orig_nbformat": 2,
  "kernelspec": {
   "name": "python385jvsc74a57bd0792d562b2c11fbe8974c10320ae1281a344f9972e6ee744cbf834c43561210f3",
   "display_name": "Python 3.8.5 32-bit"
  },
  "metadata": {
   "interpreter": {
    "hash": "792d562b2c11fbe8974c10320ae1281a344f9972e6ee744cbf834c43561210f3"
   }
  }
 },
 "nbformat": 4,
 "nbformat_minor": 2,
 "cells": [
  {
   "cell_type": "code",
   "execution_count": null,
   "metadata": {},
   "outputs": [],
   "source": [
    "class Element:\n",
    "    def __init__(self, value, isFact) :\n",
    "        self.value = value\n",
    "        self.isFact = isFact\n"
   ]
  },
  {
   "cell_type": "code",
   "execution_count": null,
   "metadata": {},
   "outputs": [],
   "source": [
    "class RankSolver:\n",
    "    def __init__(self, sol, initialRatings) :\n",
    "        self.solution = solution\n",
    "        self.ratings = initialRatings\n",
    "        self.ratingsQueue = []\n",
    "        self.ratingsCode = []\n",
    "    \n",
    "    def isSolved(self, ratings) :            \n",
    "        return solution == ratings.getFinalRanking()\n",
    "\n",
    "    def solve(self) :\n",
    "        result = []\n",
    "        self.ratingsQueue.append(self.ratings)\n",
    "        solutionCount = 0\n",
    "\n",
    "        while len(self.ratingsQueue) > 0 :\n",
    "            #print(\"Items in RatingsQueue: \", len(self.ratingsQueue));\n",
    "            #print(\"Items in Ratings Code: \", len(self.ratingsCode));            \n",
    "            #print(\"Results: \", len(result));\n",
    "\n",
    "            currentRating = self.ratingsQueue.pop(0)\n",
    "            \n",
    "            if currentRating.getCode() in self.ratingsCode:\n",
    "                continue\n",
    " \n",
    "            if self.isSolved(currentRating):\n",
    "                result.append(currentRating)\n",
    "\n",
    "                print (\"Possible Solution: \\n\" , currentRating.getCode())\n",
    "                \n",
    "                if solutionCount > 3:\n",
    "                    return result\n",
    "            \n",
    "            children = currentRating.getChildren()\n",
    "\n",
    "            #print(\"Children for current rating: \", len(children))\n",
    "\n",
    "            for r in children:\n",
    "                if r.getCode() in self.ratingsCode:\n",
    "                    continue\n",
    "\n",
    "                self.ratingsQueue.append(r)\n",
    "            \n",
    "            self.ratingsCode.append(currentRating.getCode())\n",
    "\n",
    "            #break;"
   ]
  },
  {
   "cell_type": "code",
   "execution_count": null,
   "metadata": {},
   "outputs": [],
   "source": [
    "class Ratings :\n",
    "    def __init__(self, solution):\n",
    "        self.rankings =[]\n",
    "        self.finalRanking=[]\n",
    "        self.solution = solution\n",
    "\n",
    "    def getFinalRanking(self) :\n",
    "        \n",
    "        if len(self.finalRanking) > 0:\n",
    "            return self.finalRanking;\n",
    "        \n",
    "        self.finalRanking = self.calculateFinalRanking()\n",
    "\n",
    "        return self.finalRanking\n",
    "\n",
    "    def calculateFinalRanking(self) :\n",
    "        rankDictionary = {}\n",
    "\n",
    "        for player in self.solution :\n",
    "            rankDictionary[player] = 0\n",
    "        \n",
    "        for rank in self.rankings :\n",
    "            for name in rank.ranks :\n",
    "                if name.value in rankDictionary :\n",
    "                    rankDictionary[name.value] += rank.ranks.index(name)\n",
    "        result = []\n",
    "\n",
    "        for item in dict(sorted(rankDictionary.items(), key=lambda item: item[1])):\n",
    "            result.append(item)\n",
    "\n",
    "        return result\n",
    "    \n",
    "    def getChildren(self) :\n",
    "        result = []\n",
    "\n",
    "        for index in range(0, len(self.rankings)):\n",
    "            rankChildren = self.rankings[index].getChildren();\n",
    "\n",
    "            for item in rankChildren :\n",
    "                newRatings = Ratings(self.solution)\n",
    "                newRatings.rankings.append(item)\n",
    "                newRatings.rankings.extend(\n",
    "                    [x for x in self.rankings if x.id != self.rankings[index].id])\n",
    "\n",
    "                result.append(newRatings)\n",
    "\n",
    "        return result\n",
    "\n",
    "    def getCode(self) :\n",
    "        result = \"\"\n",
    "        for rank in self.rankings:\n",
    "            for item in rank.ranks:\n",
    "                result += item.value\n",
    "        return result"
   ]
  },
  {
   "cell_type": "code",
   "execution_count": null,
   "metadata": {},
   "outputs": [],
   "source": [
    "solution = [ \"Joey\",\n",
    "            \"Shubham\",\n",
    "            \"Sammie\",\n",
    "            \"Chris\" ]\n"
   ]
  },
  {
   "cell_type": "code",
   "execution_count": null,
   "metadata": {},
   "outputs": [],
   "source": [
    "class Ranking:\n",
    "    def __init__(self, name, ranks):\n",
    "        self.id  = name\n",
    "        self.ranks = ranks\n",
    "    \n",
    "    def getChildren(self) :\n",
    "        result = []\n",
    "\n",
    "        for startIndex in range (0, len(self.ranks) ) :\n",
    "            for swapIndex in range(startIndex + 1, len(self.ranks)) :\n",
    "                newRank = Ranking(id, [])\n",
    "                newRank.ranks.extend(self.ranks)              \n",
    "                newRank.swap(startIndex, swapIndex)\n",
    "                \n",
    "                result.append(newRank)\n",
    "        \n",
    "        return result\n",
    "\n",
    "    def swap(self, startIndex, swapIndex) :          \n",
    "        \n",
    "        if (self.ranks[startIndex].isFact) :\n",
    "            return\n",
    "        if (self.ranks[swapIndex].isFact) :\n",
    "            return\n",
    "        \n",
    "        temp = self.ranks[startIndex]\n",
    "        self.ranks[startIndex] = self.ranks[swapIndex]\n",
    "        self.ranks[swapIndex] = temp\n",
    "    \n"
   ]
  },
  {
   "cell_type": "code",
   "execution_count": null,
   "metadata": {},
   "outputs": [],
   "source": [
    "r1 = Ranking(\"Joey\", [])\n",
    "r1.ranks=[]\n",
    "r1.ranks.append(Element(\"Sammie\", False))\n",
    "r1.ranks.append(Element(\"Shubham\", False))\n",
    "r1.ranks.append(Element(\"Chris\", False))\n",
    "\n",
    "r2 =  Ranking(\"Shubham\", [])\n",
    "r2.ranks=[]\n",
    "r2.ranks.append(Element(\"Joey\", False))\n",
    "r2.ranks.append(Element(\"Sammie\", False))\n",
    "r2.ranks.append(Element(\"Chris\", False))\n",
    "\n",
    "r3 = Ranking(\"Sammie\", [])\n",
    "r3.ranks=[]\n",
    "r3.ranks.append(Element(\"Joey\", False))\n",
    "r3.ranks.append(Element(\"Shubham\", False))\n",
    "r3.ranks.append(Element(\"Chris\", False))\n",
    "\n",
    "r4 = Ranking(\"Chris\", [])\n",
    "r4.ranks=[]\n",
    "r4.ranks.append(Element(\"Joey\", False))\n",
    "r4.ranks.append(Element(\"Shubham\", False))\n",
    "r4.ranks.append(Element(\"Sammie\", False))\n"
   ]
  },
  {
   "cell_type": "code",
   "execution_count": null,
   "metadata": {},
   "outputs": [],
   "source": [
    "rating = Ratings(solution)\n",
    "rating.rankings.append(r1)\n",
    "rating.rankings.append(r2)\n",
    "rating.rankings.append(r3)\n",
    "rating.rankings.append(r4)\n"
   ]
  },
  {
   "cell_type": "code",
   "execution_count": null,
   "metadata": {},
   "outputs": [],
   "source": []
  },
  {
   "cell_type": "code",
   "execution_count": null,
   "metadata": {
    "tags": [
     "outputPrepend"
    ]
   },
   "outputs": [],
   "source": [
    "solver = RankSolver(solution, rating)\n",
    "result = solver.solve()"
   ]
  }
 ]
}