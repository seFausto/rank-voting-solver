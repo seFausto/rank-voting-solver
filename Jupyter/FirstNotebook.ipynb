{
 "metadata": {
  "language_info": {
   "codemirror_mode": {
    "name": "ipython",
    "version": 3
   },
   "file_extension": ".py",
   "mimetype": "text/x-python",
   "name": "python",
   "nbconvert_exporter": "python",
   "pygments_lexer": "ipython3",
   "version": "3.8.5"
  },
  "orig_nbformat": 2,
  "kernelspec": {
   "name": "python385jvsc74a57bd0792d562b2c11fbe8974c10320ae1281a344f9972e6ee744cbf834c43561210f3",
   "display_name": "Python 3.8.5 32-bit"
  },
  "metadata": {
   "interpreter": {
    "hash": "792d562b2c11fbe8974c10320ae1281a344f9972e6ee744cbf834c43561210f3"
   }
  }
 },
 "nbformat": 4,
 "nbformat_minor": 2,
 "cells": [
  {
   "cell_type": "code",
   "execution_count": 57,
   "metadata": {},
   "outputs": [
    {
     "output_type": "error",
     "ename": "IndentationError",
     "evalue": "expected an indented block (<ipython-input-57-a6f2dd839605>, line 3)",
     "traceback": [
      "\u001b[1;36m  File \u001b[1;32m\"<ipython-input-57-a6f2dd839605>\"\u001b[1;36m, line \u001b[1;32m3\u001b[0m\n\u001b[1;33m    self.value = value\u001b[0m\n\u001b[1;37m    ^\u001b[0m\n\u001b[1;31mIndentationError\u001b[0m\u001b[1;31m:\u001b[0m expected an indented block\n"
     ]
    }
   ],
   "source": [
    "class Element:\n",
    "    def __init__(self, value, isFact) :\n",
    "    self.value = value\n",
    "    self.isFact = isFact\n"
   ]
  },
  {
   "cell_type": "code",
   "execution_count": 42,
   "metadata": {},
   "outputs": [],
   "source": [
    "class Ranking:\n",
    "    def __init__(self, name):\n",
    "        self.id  = name\n",
    "        self.ranks = []\n",
    "    \n",
    "    def getChildren() :\n",
    "        result = []\n",
    "\n",
    "        for startIndex in range (0, Ranks.len() -1 ) :\n",
    "            for swapIndex in range(startIndex + 1, Ranks.len() - 1) :\n",
    "                newRank = Ranking()\n",
    "                newRank.id = id\n",
    "\n",
    "                newRank.Ranks.append(ranks)\n",
    "\n",
    "                newRank.swap(startIndex, swapIndex)\n",
    "\n",
    "                result.append(newRank)\n",
    "        \n",
    "        return result\n",
    "\n",
    "    def swap(startIndex, swapIndex) :\n",
    "        if (Ranks[startIndex].isFact) :\n",
    "            return\n",
    "        if (Ranks[swapIndex].isFact) :\n",
    "            return\n",
    "        \n",
    "        temp = ranks[startIndex]\n",
    "        ranks[startIndex] = ranks[swapIndex]\n",
    "        ranks[swapIndex] = temp\n",
    "    \n"
   ]
  },
  {
   "cell_type": "code",
   "execution_count": 48,
   "metadata": {},
   "outputs": [],
   "source": [
    "class Ratings :\n",
    "    rankings = []\n",
    "    finalRanking =  []\n",
    "\n",
    "    def getFinalRanking() :\n",
    "        if (finalRanking.len() > 0):\n",
    "            return finalRanking;\n",
    "        \n",
    "        finalRanking = calculateFinalRanking()\n",
    "\n",
    "        return finalRanking\n",
    "\n",
    "    def calculateFinalRanking() :\n",
    "        rankDictionary = {}\n",
    "\n",
    "        for player in rankings[0].ranks :\n",
    "            rankDictionary[player.value] = 0\n",
    "\n",
    "        for player in rankings[1].ranks :\n",
    "            if  player.value not in rankDictionary :\n",
    "                rankDictionary[player.value] = 0\n",
    "        \n",
    "        for rank in rankings :\n",
    "            for name in rank.ranks :\n",
    "                if name.value in rankDictionary :\n",
    "                    rankDictionary[name.value] += rank.Ranks.index(name)\n",
    "        result = []\n",
    "        for key in sorted(rankDictionary):\n",
    "                result.append(key)\n",
    "\n",
    "        return result\n",
    "    \n",
    "    def getChildren() :\n",
    "        result = []\n",
    "\n",
    "        for index in range(0, rankings.len() - 1):\n",
    "            rankChildren = rankings[index].getChildren();\n",
    "\n",
    "            for item in rankChildren :\n",
    "                newRatings = Ratings()\n",
    "                newRatings.rankings.append(item)\n",
    "                newRatings.rankings.append(\n",
    "                    [x for x in rankings if x.id != rankings[index].id])\n",
    "\n",
    "                result.append(newRatings)\n",
    "\n",
    "        return result\n",
    "\n",
    "    def getCode() :\n",
    "        result = \"\"\n",
    "        for rank in rankings:\n",
    "            for item in rank.ranks:\n",
    "                result += item.value\n",
    "\n",
    "        return result\n",
    "\n",
    "    \n"
   ]
  },
  {
   "cell_type": "code",
   "execution_count": 49,
   "metadata": {},
   "outputs": [],
   "source": [
    "class RankSolver:\n",
    "    def __init__(self, sol, initialRatings) :\n",
    "        solution = solution\n",
    "        ratings = initialRatings\n",
    "        ratingsQueue = []\n",
    "        ratingsCode = []\n",
    "    \n",
    "    def isSolve(ratings) :\n",
    "        return solution == ratings.getFinalRanking\n",
    "\n",
    "    def solve() :\n",
    "        result = []\n",
    "        ratingsQueue.append(ratings)\n",
    "\n",
    "        while ratingsQueue.len() > 0 :\n",
    "            currentRating = ratingsQueue.pop(0)\n",
    "\n",
    "            if currentRating.getCode() in ratingsCode:\n",
    "                continue\n",
    "\n",
    "            for r in currentRating.getChildren():\n",
    "                if r.getCode() in ratingsCode:\n",
    "                    continue\n",
    "\n",
    "                ratingsQueue.append(r)\n",
    "            \n",
    "            ratingsCode.append(currentRating.getCode())\n",
    "\n",
    "    "
   ]
  },
  {
   "cell_type": "code",
   "execution_count": 40,
   "metadata": {},
   "outputs": [],
   "source": [
    "soution = [ \"Joey\",\n",
    "            \"Shubham\",\n",
    "            \"Sammie\",\n",
    "            \"Chris\",\n",
    "            \"Rebecca\",\n",
    "            \"Ed\"\n",
    "            ]\n",
    "            "
   ]
  },
  {
   "cell_type": "code",
   "execution_count": 58,
   "metadata": {},
   "outputs": [
    {
     "output_type": "error",
     "ename": "TypeError",
     "evalue": "Element() takes no arguments",
     "traceback": [
      "\u001b[1;31m---------------------------------------------------------------------------\u001b[0m",
      "\u001b[1;31mTypeError\u001b[0m                                 Traceback (most recent call last)",
      "\u001b[1;32m<ipython-input-58-3b797406e823>\u001b[0m in \u001b[0;36m<module>\u001b[1;34m\u001b[0m\n\u001b[0;32m      1\u001b[0m \u001b[0mr1\u001b[0m \u001b[1;33m=\u001b[0m \u001b[0mRanking\u001b[0m\u001b[1;33m(\u001b[0m\u001b[1;34m\"Ed\"\u001b[0m\u001b[1;33m)\u001b[0m\u001b[1;33m\u001b[0m\u001b[1;33m\u001b[0m\u001b[0m\n\u001b[0;32m      2\u001b[0m \u001b[1;33m\u001b[0m\u001b[0m\n\u001b[1;32m----> 3\u001b[1;33m \u001b[0mr1\u001b[0m\u001b[1;33m.\u001b[0m\u001b[0mranks\u001b[0m\u001b[1;33m.\u001b[0m\u001b[0mappend\u001b[0m\u001b[1;33m(\u001b[0m\u001b[0mElement\u001b[0m\u001b[1;33m(\u001b[0m\u001b[1;34m\"Joey\"\u001b[0m\u001b[1;33m,\u001b[0m \u001b[1;32mFalse\u001b[0m\u001b[1;33m)\u001b[0m\u001b[1;33m)\u001b[0m\u001b[1;33m\u001b[0m\u001b[1;33m\u001b[0m\u001b[0m\n\u001b[0m\u001b[0;32m      4\u001b[0m \u001b[0mr1\u001b[0m\u001b[1;33m.\u001b[0m\u001b[0mranks\u001b[0m\u001b[1;33m.\u001b[0m\u001b[0mappend\u001b[0m\u001b[1;33m(\u001b[0m\u001b[0mElement\u001b[0m\u001b[1;33m(\u001b[0m\u001b[1;34m\"Chris\"\u001b[0m\u001b[1;33m,\u001b[0m \u001b[1;32mTrue\u001b[0m\u001b[1;33m)\u001b[0m\u001b[1;33m)\u001b[0m\u001b[1;33m\u001b[0m\u001b[1;33m\u001b[0m\u001b[0m\n\u001b[0;32m      5\u001b[0m \u001b[0mr1\u001b[0m\u001b[1;33m.\u001b[0m\u001b[0mranks\u001b[0m\u001b[1;33m.\u001b[0m\u001b[0mappend\u001b[0m\u001b[1;33m(\u001b[0m\u001b[0mElement\u001b[0m\u001b[1;33m(\u001b[0m\u001b[1;34m\"Shubham\"\u001b[0m\u001b[1;33m,\u001b[0m \u001b[1;32mFalse\u001b[0m\u001b[1;33m)\u001b[0m\u001b[1;33m)\u001b[0m\u001b[1;33m\u001b[0m\u001b[1;33m\u001b[0m\u001b[0m\n",
      "\u001b[1;31mTypeError\u001b[0m: Element() takes no arguments"
     ]
    }
   ],
   "source": [
    "r1 = Ranking(\"Ed\")\n",
    "\n",
    "r1.ranks.append(Element(\"Joey\", False))\n",
    "r1.ranks.append(Element(\"Chris\", True))\n",
    "r1.ranks.append(Element(\"Shubham\", False))\n",
    "r1.ranks.append(Element(\"Sammie\", True))\n",
    "r1.ranks.append(Element(\"Rebecca\", False))\n",
    "\n",
    "r2 =  Ranking(\"Shubham\")\n",
    "r2.ranks.append(Element(\"Joey\", False))\n",
    "r2.ranks.append(Element(\"Rebecca\", True))\n",
    "r2.ranks.append(Element(\"Sammie\", False))\n",
    "r2.ranks.append(Element(\"Ed\", False))\n",
    "r2.ranks.append(Element(\"Chris\", False))\n",
    "\n",
    "r3 = Ranking(\"Joey\")\n",
    "r3.ranks.append(Element(\"Sammie\", True))\n",
    "r3.ranks.append(Element(\"Shubham\", True))\n",
    "r3.ranks.append(Element(\"Chris\", False))\n",
    "r3.ranks.append(Element(\"Ed\", True))\n",
    "r3.ranks.append(Element(\"Rebecca\", False))\n",
    "\n",
    "r4 =  Ranking(\"Chris\")\n",
    "r4.ranks.append(Element(\"Joey\", True))\n",
    "r4.ranks.append(Element(\"Rebecca\", False))\n",
    "r4.ranks.append(Element(\"Shubham\", False))\n",
    "r4.ranks.append(Element(\"Sammie\", False))\n",
    "r4.ranks.append(Element(\"Edd\", True))\n",
    "\n",
    "r5 =  Ranking(\"Sammie\")\n",
    "r5.ranks.append(Element(\"Chris\", False))\n",
    "r5.ranks.append(Element(\"Joey\", False))\n",
    "r5.ranks.append(Element(\"Rebecca\", True))\n",
    "r5.ranks.append(Element(\"Ed\", True))\n",
    "r5.ranks.append(Element(\"Shubham\", False))\n",
    "\n",
    "r6 =  Ranking(\"Rebecca\")\n",
    "r6.ranks.append(Element(\"Shubham\", True))\n",
    "r6.ranks.append(Element(\"Chris\", False))\n",
    "r6.ranks.append(Element(\"Sammie\", False))\n",
    "r6.ranks.append(Element(\"Joey\", True))\n",
    "r6.ranks.append(Element(\"Ed\", False))"
   ]
  },
  {
   "cell_type": "code",
   "execution_count": null,
   "metadata": {},
   "outputs": [],
   "source": []
  }
 ]
}