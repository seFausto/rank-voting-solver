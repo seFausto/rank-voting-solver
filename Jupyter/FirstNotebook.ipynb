{
 "metadata": {
  "language_info": {
   "codemirror_mode": {
    "name": "ipython",
    "version": 3
   },
   "file_extension": ".py",
   "mimetype": "text/x-python",
   "name": "python",
   "nbconvert_exporter": "python",
   "pygments_lexer": "ipython3",
   "version": "3.8.5"
  },
  "orig_nbformat": 2,
  "kernelspec": {
   "name": "python385jvsc74a57bd0792d562b2c11fbe8974c10320ae1281a344f9972e6ee744cbf834c43561210f3",
   "display_name": "Python 3.8.5 32-bit"
  },
  "metadata": {
   "interpreter": {
    "hash": "792d562b2c11fbe8974c10320ae1281a344f9972e6ee744cbf834c43561210f3"
   }
  }
 },
 "nbformat": 4,
 "nbformat_minor": 2,
 "cells": [
  {
   "cell_type": "code",
   "execution_count": 40,
   "metadata": {},
   "outputs": [],
   "source": [
    "soution = [ \"Joey\",\n",
    "            \"Shubham\",\n",
    "            \"Sammie\",\n",
    "            \"Chris\",\n",
    "            \"Rebecca\",\n",
    "            \"Ed\"\n",
    "            ]\n",
    "            "
   ]
  },
  {
   "cell_type": "code",
   "execution_count": 41,
   "metadata": {},
   "outputs": [],
   "source": [
    "class Element:\n",
    "    value = \"\"\n",
    "    isFact = False\n"
   ]
  },
  {
   "cell_type": "code",
   "execution_count": null,
   "metadata": {},
   "outputs": [],
   "source": []
  },
  {
   "cell_type": "code",
   "execution_count": 42,
   "metadata": {},
   "outputs": [],
   "source": [
    "class Ranking:\n",
    "    def __init__(self, name):\n",
    "        self.id  = name\n",
    "        self.ranks = []\n",
    "    \n",
    "    def getChildren() :\n",
    "        result = []\n",
    "\n",
    "        for startIndex in range (0, Ranks.len() -1 ) :\n",
    "            for swapIndex in range(startIndex + 1, Ranks.len() - 1) :\n",
    "                newRank = Ranking()\n",
    "                newRank.id = id\n",
    "\n",
    "                newRank.Ranks.append(ranks)\n",
    "\n",
    "                newRank.swap(startIndex, swapIndex)\n",
    "\n",
    "                result.append(newRank)\n",
    "        \n",
    "        return result\n",
    "\n",
    "    def swap(startIndex, swapIndex) :\n",
    "        if (Ranks[startIndex].isFact) :\n",
    "            return\n",
    "        if (Ranks[swapIndex].isFact) :\n",
    "            return\n",
    "        \n",
    "        temp = ranks[startIndex]\n",
    "        ranks[startIndex] = ranks[swapIndex]\n",
    "        ranks[swapIndex] = temp\n",
    "    \n"
   ]
  },
  {
   "cell_type": "code",
   "execution_count": 48,
   "metadata": {},
   "outputs": [],
   "source": [
    "class Ratings :\n",
    "    rankings = []\n",
    "    finalRanking =  []\n",
    "\n",
    "    def getFinalRanking() :\n",
    "        if (finalRanking.len() > 0):\n",
    "            return finalRanking;\n",
    "        \n",
    "        finalRanking = calculateFinalRanking()\n",
    "\n",
    "        return finalRanking\n",
    "\n",
    "    def calculateFinalRanking() :\n",
    "        rankDictionary = {}\n",
    "\n",
    "        for player in rankings[0].ranks :\n",
    "            rankDictionary[player.value] = 0\n",
    "\n",
    "        for player in rankings[1].ranks :\n",
    "            if  player.value not in rankDictionary :\n",
    "                rankDictionary[player.value] = 0\n",
    "        \n",
    "        for rank in rankings :\n",
    "            for name in rank.ranks :\n",
    "                if name.value in rankDictionary :\n",
    "                    rankDictionary[name.value] += rank.Ranks.index(name)\n",
    "        result = []\n",
    "        for key in sorted(rankDictionary):\n",
    "                result.append(key)\n",
    "\n",
    "        return result\n",
    "    \n",
    "    def getChildren() :\n",
    "        result = []\n",
    "\n",
    "        for index in range(0, rankings.len() - 1):\n",
    "            rankChildren = rankings[index].getChildren();\n",
    "\n",
    "            for item in rankChildren :\n",
    "                newRatings = Ratings()\n",
    "                newRatings.rankings.append(item)\n",
    "                newRatings.rankings.append(\n",
    "                    [x for x in rankings if x.id != rankings[index].id])\n",
    "\n",
    "                result.append(newRatings)\n",
    "\n",
    "        return result\n",
    "\n",
    "    def getCode() :\n",
    "        result = \"\"\n",
    "        for rank in rankings:\n",
    "            for item in rank.ranks:\n",
    "                result += item.value\n",
    "\n",
    "        return result\n",
    "\n",
    "    \n"
   ]
  },
  {
   "cell_type": "code",
   "execution_count": null,
   "metadata": {},
   "outputs": [],
   "source": []
  }
 ]
}